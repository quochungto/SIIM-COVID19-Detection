{
 "cells": [
  {
   "cell_type": "code",
   "execution_count": 2,
   "metadata": {
    "_cell_guid": "b1076dfc-b9ad-4769-8c92-a6c4dae69d19",
    "_uuid": "8f2839f25d086af736a60e9eeb907d3b93b6e0e5",
    "execution": {
     "iopub.execute_input": "2021-08-06T23:41:36.839972Z",
     "iopub.status.busy": "2021-08-06T23:41:36.839665Z",
     "iopub.status.idle": "2021-08-06T23:41:38.784082Z",
     "shell.execute_reply": "2021-08-06T23:41:38.783112Z",
     "shell.execute_reply.started": "2021-08-06T23:41:36.839941Z"
    }
   },
   "outputs": [],
   "source": [
    "import sys\n",
    "sys.path.extend(['/kaggle/input/dummy-siim',\n",
    "                 '/kaggle/input/dummy0'])\n",
    "import os\n",
    "import shutil\n",
    "from tqdm.notebook import tqdm\n",
    "from glob import glob\n",
    "import warnings\n",
    "warnings.filterwarnings('ignore')\n",
    "\n",
    "import numpy as np\n",
    "import pandas as pd\n",
    "import matplotlib.pyplot as plt\n",
    "import cv2\n",
    "\n",
    "from post_processing import *"
   ]
  },
  {
   "cell_type": "markdown",
   "metadata": {},
   "source": [
    "# Ensemble"
   ]
  },
  {
   "cell_type": "code",
   "execution_count": 3,
   "metadata": {
    "execution": {
     "iopub.execute_input": "2021-08-06T23:41:38.786232Z",
     "iopub.status.busy": "2021-08-06T23:41:38.785946Z",
     "iopub.status.idle": "2021-08-06T23:41:38.852709Z",
     "shell.execute_reply": "2021-08-06T23:41:38.851725Z",
     "shell.execute_reply.started": "2021-08-06T23:41:38.786204Z"
    }
   },
   "outputs": [
    {
     "data": {
      "text/html": [
       "<div>\n",
       "<style scoped>\n",
       "    .dataframe tbody tr th:only-of-type {\n",
       "        vertical-align: middle;\n",
       "    }\n",
       "\n",
       "    .dataframe tbody tr th {\n",
       "        vertical-align: top;\n",
       "    }\n",
       "\n",
       "    .dataframe thead th {\n",
       "        text-align: right;\n",
       "    }\n",
       "</style>\n",
       "<table border=\"1\" class=\"dataframe\">\n",
       "  <thead>\n",
       "    <tr style=\"text-align: right;\">\n",
       "      <th></th>\n",
       "      <th>id</th>\n",
       "      <th>id1</th>\n",
       "      <th>id2</th>\n",
       "      <th>dicompath</th>\n",
       "      <th>split</th>\n",
       "      <th>h</th>\n",
       "      <th>w</th>\n",
       "    </tr>\n",
       "  </thead>\n",
       "  <tbody>\n",
       "    <tr>\n",
       "      <th>1258</th>\n",
       "      <td>a43200bd5ceb_image</td>\n",
       "      <td>b12d2e5c39b7</td>\n",
       "      <td>dbe9ee02fe31</td>\n",
       "      <td>../input/siim-covid19-detection/test/b12d2e5c3...</td>\n",
       "      <td>test</td>\n",
       "      <td>2336</td>\n",
       "      <td>2836</td>\n",
       "    </tr>\n",
       "    <tr>\n",
       "      <th>1259</th>\n",
       "      <td>37bf83df1b86_image</td>\n",
       "      <td>6484393291ea</td>\n",
       "      <td>7134da36e604</td>\n",
       "      <td>../input/siim-covid19-detection/test/648439329...</td>\n",
       "      <td>test</td>\n",
       "      <td>3480</td>\n",
       "      <td>4240</td>\n",
       "    </tr>\n",
       "    <tr>\n",
       "      <th>1260</th>\n",
       "      <td>b30d2aef985f_image</td>\n",
       "      <td>6484393291ea</td>\n",
       "      <td>2ecb8f912c9f</td>\n",
       "      <td>../input/siim-covid19-detection/test/648439329...</td>\n",
       "      <td>test</td>\n",
       "      <td>3480</td>\n",
       "      <td>4240</td>\n",
       "    </tr>\n",
       "    <tr>\n",
       "      <th>1261</th>\n",
       "      <td>a37a362df0ac_image</td>\n",
       "      <td>531aa20ff7c3</td>\n",
       "      <td>27416cfb11db</td>\n",
       "      <td>../input/siim-covid19-detection/test/531aa20ff...</td>\n",
       "      <td>test</td>\n",
       "      <td>3480</td>\n",
       "      <td>4240</td>\n",
       "    </tr>\n",
       "    <tr>\n",
       "      <th>1262</th>\n",
       "      <td>a0f473f71878_image</td>\n",
       "      <td>9852d2660b69</td>\n",
       "      <td>fec4486b307c</td>\n",
       "      <td>../input/siim-covid19-detection/test/9852d2660...</td>\n",
       "      <td>test</td>\n",
       "      <td>2320</td>\n",
       "      <td>2832</td>\n",
       "    </tr>\n",
       "  </tbody>\n",
       "</table>\n",
       "</div>"
      ],
      "text/plain": [
       "                      id           id1           id2  \\\n",
       "1258  a43200bd5ceb_image  b12d2e5c39b7  dbe9ee02fe31   \n",
       "1259  37bf83df1b86_image  6484393291ea  7134da36e604   \n",
       "1260  b30d2aef985f_image  6484393291ea  2ecb8f912c9f   \n",
       "1261  a37a362df0ac_image  531aa20ff7c3  27416cfb11db   \n",
       "1262  a0f473f71878_image  9852d2660b69  fec4486b307c   \n",
       "\n",
       "                                              dicompath split     h     w  \n",
       "1258  ../input/siim-covid19-detection/test/b12d2e5c3...  test  2336  2836  \n",
       "1259  ../input/siim-covid19-detection/test/648439329...  test  3480  4240  \n",
       "1260  ../input/siim-covid19-detection/test/648439329...  test  3480  4240  \n",
       "1261  ../input/siim-covid19-detection/test/531aa20ff...  test  3480  4240  \n",
       "1262  ../input/siim-covid19-detection/test/9852d2660...  test  2320  2832  "
      ]
     },
     "execution_count": 3,
     "metadata": {},
     "output_type": "execute_result"
    }
   ],
   "source": [
    "df_test = pd.read_csv('../input/original-size-png-public-test-images-siim/test.csv')\n",
    "df_test['id'] = df_test['id'] + '_image'\n",
    "\n",
    "df_paths = [\n",
    "            '../input/yolov5-inference-siim/yolo_pred0.csv',\n",
    "            '../input/yolov5-inference-siim/yolo_pred1.csv',\n",
    "            '../input/yolov5-inference-siim/yolo_pred2.csv',\n",
    "            '../input/yolov5-inference-siim/yolo_pred3.csv',\n",
    "            '../input/yolov5-inference-siim/yolo_pred4.csv',\n",
    "                    \n",
    "            #'roc_sub.csv',\n",
    "            '../input/yolotrsfolds384/image_level/trs_384_fold0_image_level_submission.csv',\n",
    "            '../input/yolotrsfolds384/image_level/trs_384_fold1_image_level_submission.csv',\n",
    "            '../input/yolotrsfolds384/image_level/trs_384_fold2_image_level_submission.csv',\n",
    "            '../input/yolotrsfolds384/image_level/trs_384_fold3_image_level_submission.csv',\n",
    "            '../input/yolotrsfolds384/image_level/trs_384_fold4_image_level_submission.csv',\n",
    "    \n",
    "            '../input/predictions-yolo5l6-512-8-35-roccfg-siim/remote/05_0001/yolov5l6_fold0_512_8_35_05_0001.csv',\n",
    "            '../input/predictions-yolo5l6-512-8-35-roccfg-siim/remote/05_0001/yolov5l6_fold1_512_8_35_05_0001.csv',\n",
    "            '../input/predictions-yolo5l6-512-8-35-roccfg-siim/remote/05_0001/yolov5l6_fold2_512_8_35_05_0001.csv',\n",
    "            '../input/predictions-yolo5l6-512-8-35-roccfg-siim/remote/05_0001/yolov5l6_fold3_512_8_35_05_0001.csv',\n",
    "            '../input/predictions-yolo5l6-512-8-35-roccfg-siim/remote/05_0001/yolov5l6_fold4_512_8_35_05_0001.csv',\n",
    "\n",
    "            '../input/yolov5-psuedo-label-predictions-siim/pseudo_result/kaggle/working/yolo_submit/remote/512_iou050_conf00010/fold0/20210802_145524/exp/image_sub.csv',\n",
    "            '../input/yolov5-psuedo-label-predictions-siim/pseudo_result/kaggle/working/yolo_submit/remote/512_iou050_conf00010/fold1/20210802_145905/exp/image_sub.csv',\n",
    "            '../input/yolov5-psuedo-label-predictions-siim/pseudo_result/kaggle/working/yolo_submit/remote/512_iou050_conf00010/fold2/20210802_150244/exp/image_sub.csv',\n",
    "            '../input/yolov5-psuedo-label-predictions-siim/pseudo_result/kaggle/working/yolo_submit/remote/512_iou050_conf00010/fold3/20210802_150621/exp/image_sub.csv',\n",
    "            '../input/yolov5-psuedo-label-predictions-siim/pseudo_result/kaggle/working/yolo_submit/remote/512_iou050_conf00010/fold4/20210802_151000/exp/image_sub.csv',           \n",
    "           ]\n",
    "\n",
    "\n",
    "ws = None\n",
    "df_test.tail()"
   ]
  },
  {
   "cell_type": "code",
   "execution_count": 4,
   "metadata": {
    "execution": {
     "iopub.execute_input": "2021-08-06T23:41:38.854312Z",
     "iopub.status.busy": "2021-08-06T23:41:38.854022Z",
     "iopub.status.idle": "2021-08-06T23:41:46.572811Z",
     "shell.execute_reply": "2021-08-06T23:41:46.571809Z",
     "shell.execute_reply.started": "2021-08-06T23:41:38.854282Z"
    }
   },
   "outputs": [
    {
     "name": "stdout",
     "output_type": "stream",
     "text": [
      "YOLO_PRED0: 24 BBOXES PER IMAGE\n",
      "\n",
      "Warning: image without box!\n",
      "YOLO_PRED1: 24 BBOXES PER IMAGE\n",
      "\n",
      "YOLO_PRED2: 26 BBOXES PER IMAGE\n",
      "\n",
      "YOLO_PRED3: 24 BBOXES PER IMAGE\n",
      "\n",
      "Warning: image without box!\n",
      "YOLO_PRED4: 24 BBOXES PER IMAGE\n",
      "\n",
      "Warning: image without box!\n",
      "Warning: image without box!\n",
      "Warning: image without box!\n",
      "Warning: image without box!\n",
      "Warning: image without box!\n",
      "Warning: image without box!\n",
      "Warning: image without box!\n",
      "Warning: image without box!\n",
      "Warning: image without box!\n",
      "TRS_384_FOLD0_IMAGE_LEVEL_SUBMISSION: 28 BBOXES PER IMAGE\n",
      "\n",
      "Warning: image without box!\n",
      "Warning: image without box!\n",
      "Warning: image without box!\n",
      "Warning: image without box!\n",
      "Warning: image without box!\n",
      "Warning: image without box!\n",
      "TRS_384_FOLD1_IMAGE_LEVEL_SUBMISSION: 23 BBOXES PER IMAGE\n",
      "\n",
      "Warning: image without box!\n",
      "Warning: image without box!\n",
      "Warning: image without box!\n",
      "Warning: image without box!\n",
      "Warning: image without box!\n",
      "Warning: image without box!\n",
      "Warning: image without box!\n",
      "Warning: image without box!\n",
      "Warning: image without box!\n",
      "TRS_384_FOLD2_IMAGE_LEVEL_SUBMISSION: 29 BBOXES PER IMAGE\n",
      "\n",
      "Warning: image without box!\n",
      "Warning: image without box!\n",
      "Warning: image without box!\n",
      "Warning: image without box!\n",
      "Warning: image without box!\n",
      "Warning: image without box!\n",
      "Warning: image without box!\n",
      "Warning: image without box!\n",
      "Warning: image without box!\n",
      "TRS_384_FOLD3_IMAGE_LEVEL_SUBMISSION: 25 BBOXES PER IMAGE\n",
      "\n",
      "Warning: image without box!\n",
      "Warning: image without box!\n",
      "Warning: image without box!\n",
      "Warning: image without box!\n",
      "Warning: image without box!\n",
      "Warning: image without box!\n",
      "Warning: image without box!\n",
      "Warning: image without box!\n",
      "Warning: image without box!\n",
      "Warning: image without box!\n",
      "Warning: image without box!\n",
      "TRS_384_FOLD4_IMAGE_LEVEL_SUBMISSION: 28 BBOXES PER IMAGE\n",
      "\n",
      "YOLOV5L6_FOLD0_512_8_35_05_0001: 20 BBOXES PER IMAGE\n",
      "\n",
      "YOLOV5L6_FOLD1_512_8_35_05_0001: 20 BBOXES PER IMAGE\n",
      "\n",
      "YOLOV5L6_FOLD2_512_8_35_05_0001: 22 BBOXES PER IMAGE\n",
      "\n",
      "YOLOV5L6_FOLD3_512_8_35_05_0001: 22 BBOXES PER IMAGE\n",
      "\n",
      "YOLOV5L6_FOLD4_512_8_35_05_0001: 22 BBOXES PER IMAGE\n",
      "\n",
      "IMAGE_SUB: 13 BBOXES PER IMAGE\n",
      "\n",
      "IMAGE_SUB: 15 BBOXES PER IMAGE\n",
      "\n",
      "IMAGE_SUB: 13 BBOXES PER IMAGE\n",
      "\n",
      "IMAGE_SUB: 12 BBOXES PER IMAGE\n",
      "\n",
      "IMAGE_SUB: 14 BBOXES PER IMAGE\n",
      "\n"
     ]
    }
   ],
   "source": [
    "for df_path in df_paths:\n",
    "    s = '%s: %d bboxes per image'%(os.path.split(df_path)[-1].split('.')[0], check_num_boxes_per_image(csv_path=df_path))\n",
    "    print(s.upper(), end='\\n\\n')"
   ]
  },
  {
   "cell_type": "code",
   "execution_count": 5,
   "metadata": {
    "execution": {
     "iopub.execute_input": "2021-08-06T23:42:09.766677Z",
     "iopub.status.busy": "2021-08-06T23:42:09.766338Z",
     "iopub.status.idle": "2021-08-06T23:45:17.409484Z",
     "shell.execute_reply": "2021-08-06T23:45:17.407018Z",
     "shell.execute_reply.started": "2021-08-06T23:42:09.766650Z"
    }
   },
   "outputs": [
    {
     "data": {
      "application/vnd.jupyter.widget-view+json": {
       "model_id": "22c03fbdee394b2ea8ce6e10e72c0cd8",
       "version_major": 2,
       "version_minor": 0
      },
      "text/plain": [
       "  0%|          | 0/1263 [00:00<?, ?it/s]"
      ]
     },
     "metadata": {},
     "output_type": "display_data"
    },
    {
     "name": "stdout",
     "output_type": "stream",
     "text": [
      "Warning: image without box!\n",
      "Warning: image without box!\n",
      "Warning: image without box!\n",
      "Warning: image without box!\n",
      "Warning: image without box!\n",
      "Warning: image without box!\n",
      "Warning: image without box!\n",
      "Warning: image without box!\n",
      "Warning: image without box!\n",
      "Warning: image without box!\n",
      "Warning: image without box!\n",
      "Warning: image without box!\n",
      "Warning: image without box!\n",
      "Warning: image without box!\n",
      "Warning: image without box!\n",
      "Warning: image without box!\n",
      "Warning: image without box!\n",
      "Warning: image without box!\n",
      "Warning: image without box!\n",
      "Warning: image without box!\n",
      "Warning: image without box!\n",
      "Warning: image without box!\n",
      "Warning: image without box!\n",
      "Warning: image without box!\n",
      "Warning: image without box!\n",
      "Warning: image without box!\n",
      "Warning: image without box!\n",
      "Warning: image without box!\n",
      "Warning: image without box!\n",
      "Warning: image without box!\n",
      "Warning: image without box!\n",
      "Warning: image without box!\n",
      "Warning: image without box!\n",
      "Warning: image without box!\n",
      "Warning: image without box!\n",
      "Warning: image without box!\n",
      "Warning: image without box!\n",
      "Warning: image without box!\n",
      "Warning: image without box!\n",
      "Warning: image without box!\n",
      "Warning: image without box!\n",
      "Warning: image without box!\n",
      "Warning: image without box!\n",
      "Warning: image without box!\n",
      "Warning: image without box!\n",
      "Warning: image without box!\n",
      "Warning: image without box!\n",
      "Warning: image without box!\n",
      "Warning: image without box!\n",
      "Warning: image without box!\n",
      "Warning: image without box!\n",
      "Warning: image without box!\n",
      "Warning: image without box!\n",
      "Warning: image without box!\n",
      "Warning: image without box!\n",
      "Warning: image without box!\n",
      "Warning: image without box!\n",
      "Warning: image without box!\n",
      "Warning: image without box!\n",
      "Warning: image without box!\n",
      "Warning: image without box!\n",
      "Warning: image without box!\n",
      "Warning: image without box!\n",
      "Warning: image without box!\n",
      "Warning: image without box!\n",
      "Warning: image without box!\n",
      "Warning: image without box!\n",
      "Warning: image without box!\n",
      "Warning: image without box!\n",
      "Warning: image without box!\n",
      "Warning: image without box!\n",
      "Warning: image without box!\n",
      "Warning: image without box!\n",
      "Warning: image without box!\n",
      "Warning: image without box!\n",
      "Warning: image without box!\n",
      "Warning: image without box!\n",
      "Warning: image without box!\n",
      "Warning: image without box!\n",
      "Warning: image without box!\n",
      "Warning: image without box!\n",
      "Warning: image without box!\n",
      "Warning: image without box!\n",
      "Warning: image without box!\n",
      "Warning: image without box!\n",
      "Warning: image without box!\n",
      "num_boxes_per_image = 75.89 | file_size = 9.42 MB\n"
     ]
    },
    {
     "data": {
      "text/html": [
       "<div>\n",
       "<style scoped>\n",
       "    .dataframe tbody tr th:only-of-type {\n",
       "        vertical-align: middle;\n",
       "    }\n",
       "\n",
       "    .dataframe tbody tr th {\n",
       "        vertical-align: top;\n",
       "    }\n",
       "\n",
       "    .dataframe thead th {\n",
       "        text-align: right;\n",
       "    }\n",
       "</style>\n",
       "<table border=\"1\" class=\"dataframe\">\n",
       "  <thead>\n",
       "    <tr style=\"text-align: right;\">\n",
       "      <th></th>\n",
       "      <th>id</th>\n",
       "      <th>PredictionString</th>\n",
       "    </tr>\n",
       "  </thead>\n",
       "  <tbody>\n",
       "    <tr>\n",
       "      <th>1258</th>\n",
       "      <td>a43200bd5ceb_image</td>\n",
       "      <td>opacity 0.23347939550876617 1521.4637305736542...</td>\n",
       "    </tr>\n",
       "    <tr>\n",
       "      <th>1259</th>\n",
       "      <td>37bf83df1b86_image</td>\n",
       "      <td>opacity 0.46232032775878906 2366.91433429718 5...</td>\n",
       "    </tr>\n",
       "    <tr>\n",
       "      <th>1260</th>\n",
       "      <td>b30d2aef985f_image</td>\n",
       "      <td>opacity 0.4635642468929291 746.9181168079376 5...</td>\n",
       "    </tr>\n",
       "    <tr>\n",
       "      <th>1261</th>\n",
       "      <td>a37a362df0ac_image</td>\n",
       "      <td>opacity 0.04160895571112633 634.5032691955566 ...</td>\n",
       "    </tr>\n",
       "    <tr>\n",
       "      <th>1262</th>\n",
       "      <td>a0f473f71878_image</td>\n",
       "      <td>opacity 0.4482070505619049 2123.8072299957275 ...</td>\n",
       "    </tr>\n",
       "  </tbody>\n",
       "</table>\n",
       "</div>"
      ],
      "text/plain": [
       "                      id                                   PredictionString\n",
       "1258  a43200bd5ceb_image  opacity 0.23347939550876617 1521.4637305736542...\n",
       "1259  37bf83df1b86_image  opacity 0.46232032775878906 2366.91433429718 5...\n",
       "1260  b30d2aef985f_image  opacity 0.4635642468929291 746.9181168079376 5...\n",
       "1261  a37a362df0ac_image  opacity 0.04160895571112633 634.5032691955566 ...\n",
       "1262  a0f473f71878_image  opacity 0.4482070505619049 2123.8072299957275 ..."
      ]
     },
     "execution_count": 5,
     "metadata": {},
     "output_type": "execute_result"
    }
   ],
   "source": [
    "#file_name = 'oldyolov5x640_vfnetr50640_yolotrs384_iou06_weights212.csv'\n",
    "#file_name = 'oldyolov5x640_yolotrs384_iou06.csv'\n",
    "#file_name = 'oldyolov5x640_yolotrs384_yolov5x512pseudo_iou06_weights223_multi_fusion_mode.csv'\n",
    "#file_name = 'oldyolov5x640_yolotrs384_yolov5l6512_yolov5x6512_yolov5x512pseudo_iou06_weights22334.csv'\n",
    "file_name = 'oldyolov5x640_yolotrs384_yolov5l6512_yolov5x512pseudo_iou06_weights2223.csv'\n",
    "df_pred, num_boxes, scores = ensemble_pred(df_paths,\n",
    "                                            df_test,\n",
    "                                            mode='wbf',\n",
    "                                            iou_thr=0.6,\n",
    "                                            skip_box_thr=0.001,\n",
    "                                            weights=[2,2,2,2,2,\n",
    "                                                     2,2,2,2,2,\n",
    "                                                     2,2,2,2,2,\n",
    "                                                     3,3,3,3,3,\n",
    "                                                    ])\n",
    "\n",
    "df_pred.to_csv(file_name, index=False)\n",
    "print(f'num_boxes_per_image = {num_boxes / 1263:.2f} | file_size = {os.stat(file_name).st_size/(2**20):.2f} MB')\n",
    "df_pred.tail()"
   ]
  },
  {
   "cell_type": "code",
   "execution_count": 9,
   "metadata": {
    "execution": {
     "iopub.execute_input": "2021-08-06T23:46:12.222966Z",
     "iopub.status.busy": "2021-08-06T23:46:12.222514Z",
     "iopub.status.idle": "2021-08-06T23:46:13.338986Z",
     "shell.execute_reply": "2021-08-06T23:46:13.338019Z",
     "shell.execute_reply.started": "2021-08-06T23:46:12.222917Z"
    }
   },
   "outputs": [
    {
     "data": {
      "text/plain": [
       "Text(0.5, 1.0, 'opacity score distribution')"
      ]
     },
     "execution_count": 9,
     "metadata": {},
     "output_type": "execute_result"
    },
    {
     "data": {
      "image/png": "[encoded data removed]",
      "text/plain": [
       "<Figure size 432x288 with 1 Axes>"
      ]
     },
     "metadata": {
      "needs_background": "light"
     },
     "output_type": "display_data"
    }
   ],
   "source": [
    "#fig = plt.figure(figsize=(20, 5))\n",
    "pd.Series(scores).plot.hist(bins=500)\n",
    "plt.title('opacity score distribution')"
   ]
  },
  {
   "cell_type": "code",
   "execution_count": 10,
   "metadata": {
    "execution": {
     "iopub.execute_input": "2021-08-06T23:46:14.384413Z",
     "iopub.status.busy": "2021-08-06T23:46:14.384063Z",
     "iopub.status.idle": "2021-08-06T23:46:15.124536Z",
     "shell.execute_reply": "2021-08-06T23:46:15.123225Z",
     "shell.execute_reply.started": "2021-08-06T23:46:14.384380Z"
    }
   },
   "outputs": [
    {
     "name": "stdout",
     "output_type": "stream",
     "text": [
      "__notebook_source__.ipynb\n",
      "oldyolov5x640_yolotrs384_yolov5l6512_yolov5x512pseudo_iou06_weights2223.csv\n"
     ]
    }
   ],
   "source": [
    "!ls"
   ]
  },
  {
   "cell_type": "code",
   "execution_count": 8,
   "metadata": {
    "execution": {
     "iopub.execute_input": "2021-08-06T23:45:19.411101Z",
     "iopub.status.busy": "2021-08-06T23:45:19.410770Z",
     "iopub.status.idle": "2021-08-06T23:45:19.415759Z",
     "shell.execute_reply": "2021-08-06T23:45:19.414849Z",
     "shell.execute_reply.started": "2021-08-06T23:45:19.411069Z"
    }
   },
   "outputs": [],
   "source": []
  },
  {
   "cell_type": "code",
   "execution_count": null,
   "metadata": {},
   "outputs": [],
   "source": []
  }
 ],
 "metadata": {
  "kernelspec": {
   "display_name": "Python 3 (ipykernel)",
   "language": "python",
   "name": "python3"
  },
  "language_info": {
   "codemirror_mode": {
    "name": "ipython",
    "version": 3
   },
   "file_extension": ".py",
   "mimetype": "text/x-python",
   "name": "python",
   "nbconvert_exporter": "python",
   "pygments_lexer": "ipython3",
   "version": "3.8.10"
  }
 },
 "nbformat": 4,
 "nbformat_minor": 4
}
